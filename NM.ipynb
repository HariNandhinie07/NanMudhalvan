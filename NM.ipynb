{
  "nbformat": 4,
  "nbformat_minor": 0,
  "metadata": {
    "colab": {
      "provenance": []
    },
    "kernelspec": {
      "name": "python3",
      "display_name": "Python 3"
    },
    "language_info": {
      "name": "python"
    }
  },
  "cells": [
    {
      "cell_type": "code",
      "execution_count": 3,
      "metadata": {
        "colab": {
          "base_uri": "https://localhost:8080/",
          "height": 320
        },
        "id": "HJKxOEJoYOiQ",
        "outputId": "004bb0ff-ec9a-4919-ea2a-529345cd0ef7"
      },
      "outputs": [
        {
          "output_type": "stream",
          "name": "stderr",
          "text": [
            "<ipython-input-3-216e044ef8b9>:17: DeprecationWarning: textsize is deprecated and will be removed in Pillow 10 (2023-07-01). Use textbbox or textlength instead.\n",
            "  text_width, text_height = draw.textsize(text, font=font)\n"
          ]
        },
        {
          "output_type": "display_data",
          "data": {
            "text/plain": [
              "<Figure size 640x480 with 1 Axes>"
            ],
            "image/png": "[encoded data removed]"
          },
          "metadata": {}
        }
      ],
      "source": [
        "from PIL import Image, ImageDraw, ImageFont\n",
        "import matplotlib.pyplot as plt\n",
        "\n",
        "# Function to convert text to image\n",
        "def text_to_image(text, font_path=None, font_size=24, image_size=(400, 200), background_color=(255, 255, 255), text_color=(0, 0, 0)):\n",
        "    # Create a blank image with the given background color\n",
        "    image = Image.new('RGB', image_size, background_color)\n",
        "    draw = ImageDraw.Draw(image)\n",
        "\n",
        "    # Load a font\n",
        "    if font_path:\n",
        "        font = ImageFont.truetype(font_path, font_size)\n",
        "    else:\n",
        "        font = ImageFont.load_default()\n",
        "\n",
        "    # Calculate text size and position\n",
        "    text_width, text_height = draw.textsize(text, font=font)\n",
        "    position = ((image_size[0] - text_width) / 2, (image_size[1] - text_height) / 2)\n",
        "\n",
        "    # Draw text on the image\n",
        "    draw.text(position, text, fill=text_color, font=font)\n",
        "\n",
        "    return image\n",
        "\n",
        "# Example usage\n",
        "text = \"Hai!\"\n",
        "image = text_to_image(text)\n",
        "\n",
        "# Display the image using Matplotlib\n",
        "plt.imshow(image)\n",
        "plt.axis('off')  # Turn off axis\n",
        "plt.show()\n"
      ]
    }
  ]
}